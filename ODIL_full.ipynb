{
 "cells": [
  {
   "cell_type": "markdown",
   "metadata": {},
   "source": [
    "<a href=\"https://colab.research.google.com/github/slitvinov/odil-examples/blob/main/ODIL_full.ipynb\">\n",
    "  <img src=\"https://colab.research.google.com/assets/colab-badge.svg\" alt=\"Open In Colab\"/>\n",
    "</a>"
   ]
  },
  {
   "cell_type": "code",
   "execution_count": 1,
   "metadata": {
    "executionInfo": {
     "elapsed": 161,
     "status": "ok",
     "timestamp": 1758732539636,
     "user": {
      "displayName": "Petros Koumoutsakos",
      "userId": "14488459808227083341"
     },
     "user_tz": -60
    },
    "id": "d5QWRYZFDrAt"
   },
   "outputs": [],
   "source": [
    "import numpy as np\n",
    "import matplotlib.pyplot as plt\n",
    "\n",
    "# Parameters\n",
    "L = 1.0  # Length of the domain\n",
    "T = 10.0 # Total time\n",
    "nx = 50  # Number of spatial points\n",
    "nt = 10000 # Number of time steps\n",
    "alpha = 0.01 # Diffusion coefficient\n",
    "\n",
    "# Initial condition (e.g., a sine wave)\n",
    "# Initialize u as a 2D array (time, space)\n",
    "u = np.zeros((nt + 1, nx))\n",
    "x = np.linspace(-L, L, nx)\n",
    "sigma  = 0.2\n",
    "u[0, :] = np.exp(-(x/sigma)**2)\n",
    "\n",
    "# Stability Check\n",
    "dx = 2*L / (nx - 1)\n",
    "dt = T / nt\n",
    "# Stability condition for explicit Euler\n",
    "q = alpha * dt/ dx**2\n",
    "if 2 * q > 1:\n",
    "    print(\"Warning: Stability condition not met. The solution may be unstable.\")"
   ]
  },
  {
   "cell_type": "code",
   "execution_count": 2,
   "metadata": {
    "executionInfo": {
     "elapsed": 990,
     "status": "ok",
     "timestamp": 1758732540735,
     "user": {
      "displayName": "Petros Koumoutsakos",
      "userId": "14488459808227083341"
     },
     "user_tz": -60
    },
    "id": "vVT70yQxOEbI"
   },
   "outputs": [],
   "source": [
    "# Store the cost\n",
    "cost_history = []\n",
    "terms = np.zeros((nt + 1, nx))\n",
    "# Explicit Euler time stepping\n",
    "for n in range(nt):\n",
    "    # Calculate the terms for the cost function\n",
    "    for i in range(1, nx - 1):\n",
    "        # Central finite difference in space for cost calculation\n",
    "        terms[n,i] = (u[n, i] + q* (u[n, i+1] - 2*u[n, i] + u[n, i-1])) - u[n+1, i]"
   ]
  },
  {
   "cell_type": "markdown",
   "metadata": {
    "id": "ed54c07e"
   },
   "source": [
    "# Task\n",
    "Implement a solution for the 1D diffusion equation using the method of optimizing a discrete loss function. The discretization should use central finite differences in space and explicit Euler in time. The cost function is given by $||\\sum_i \\sum_{new} (u_{new}[i] - u[i] + \\alpha \\cdot dt / dx^2 \\cdot (u[i+1] - 2u[i] + u[i-1]))||^2$, where $u$ is a 2D array representing the solution over time and space. The optimization should minimize this cost function with respect to $u$. Finally, create a 2D contour plot of the solution $u$ over $x$ and $t$."
   ]
  },
  {
   "cell_type": "markdown",
   "metadata": {
    "id": "74c8bfcf"
   },
   "source": [
    "## Define the cost function\n",
    "\n",
    "### Subtask:\n",
    "Clearly define the cost function based on the `terms` array as you described.\n"
   ]
  },
  {
   "cell_type": "markdown",
   "metadata": {
    "id": "2c6deace"
   },
   "source": [
    "# Task\n",
    "Solve the diffusion equation using the method of optimizing the discrete loss and a discretization based on central finite differences in space and explicit Euler in time, where the cost function is the sum of the squared differences between the discretized time derivative and the spatial diffusion term at all internal grid points and time steps, and the optimization is performed on the entire 2D `u` array (representing the solution over space and time) to minimize this cost function, subject to the given initial and boundary conditions. The method of ODIL is described in the paper \"https://arxiv.org/abs/2205.04611\". Visualize the solution using a 2D contour plot of `u` over space and time."
   ]
  },
  {
   "cell_type": "markdown",
   "metadata": {
    "id": "01367882"
   },
   "source": [
    "## Redefine the cost function\n",
    "\n",
    "### Subtask:\n",
    "Modify the cost function to operate on the entire 2D `u` array.\n"
   ]
  },
  {
   "cell_type": "markdown",
   "metadata": {
    "id": "bf7cb1d7"
   },
   "source": [
    "**Reasoning**:\n",
    "Define a Python function `total_cost_2d` that calculates the cost function based on the entire 2D `u` array as described in the instructions.\n",
    "\n"
   ]
  },
  {
   "cell_type": "code",
   "execution_count": 3,
   "metadata": {
    "executionInfo": {
     "elapsed": 2,
     "status": "ok",
     "timestamp": 1758732594832,
     "user": {
      "displayName": "Petros Koumoutsakos",
      "userId": "14488459808227083341"
     },
     "user_tz": -60
    },
    "id": "3b772a80"
   },
   "outputs": [],
   "source": [
    "def total_cost_2d(u_2d):\n",
    "    \"\"\"Calculates the total cost function based on the entire 2D u array.\n",
    "\n",
    "    Args:\n",
    "        u_2d: The 2D NumPy array representing the solution over time and space.\n",
    "\n",
    "    Returns:\n",
    "        The total cost.\n",
    "    \"\"\"\n",
    "    cost = 0.0\n",
    "    # Iterate through time steps (from 0 to nt-1)\n",
    "    for n in range(nt):\n",
    "        # Iterate through spatial points (from 1 to nx-2, excluding boundaries)\n",
    "        for i in range(1, nx - 1):\n",
    "            # Calculate the term based on the discrete equation\n",
    "            term = (u_2d[n+1, i] - u_2d[n, i] +\n",
    "                    alpha * dt / dx**2 * (u_2d[n, i+1] - 2 * u_2d[n, i] + u_2d[n, i-1]))\n",
    "            # Square the term and add to the total cost\n",
    "            cost += term**2\n",
    "    return cost"
   ]
  },
  {
   "cell_type": "markdown",
   "metadata": {
    "id": "280852dc"
   },
   "source": [
    "## Formulate the optimization problem\n",
    "\n",
    "### Subtask:\n",
    "Define the optimization problem where the entire 2D `u` array is the set of optimization variables.\n"
   ]
  },
  {
   "cell_type": "markdown",
   "metadata": {
    "id": "009f8692"
   },
   "source": [
    "**Reasoning**:\n",
    "Explain the optimization problem where the entire 2D u array is the set of optimization variables.\n",
    "\n"
   ]
  },
  {
   "cell_type": "code",
   "execution_count": 4,
   "metadata": {
    "executionInfo": {
     "elapsed": 2,
     "status": "ok",
     "timestamp": 1758732594936,
     "user": {
      "displayName": "Petros Koumoutsakos",
      "userId": "14488459808227083341"
     },
     "user_tz": -60
    },
    "id": "9fd958b3"
   },
   "outputs": [],
   "source": [
    "# Explanation of the optimization problem:\n",
    "# In this approach, the entire 2D array 'u' (with dimensions (nt+1, nx)), which represents the solution of the diffusion equation across all time steps and spatial points, is treated as the set of optimization variables.\n",
    "# The goal of the optimization is to find the specific values for each element in this 'u' array that minimize the 'total_cost_2d' function.\n",
    "# The 'total_cost_2d' function quantifies how well the 'u' array satisfies the discretized diffusion equation at all internal spatial points and across all time steps (from n=0 to nt-1).\n",
    "# This differs significantly from the previous time-stepping optimization where we optimized for u[n+1, :] at each individual time step, given u[n, :].\n",
    "# Here, we are solving for the entire spatio-temporal solution simultaneously by minimizing a single global cost function.\n",
    "# The optimization will be subject to the initial condition (u[0, :]) and the boundary conditions (u[:, 0] and u[:, -1]), which will be handled either by fixing these values during the optimization or incorporating them as constraints."
   ]
  },
  {
   "cell_type": "markdown",
   "metadata": {
    "id": "d4068278"
   },
   "source": [
    "## Choose an optimization method\n",
    "\n",
    "### Subtask:\n",
    "Select an optimization algorithm suitable for minimizing a function with a large number of variables (the elements of the `u` array).\n"
   ]
  },
  {
   "cell_type": "markdown",
   "metadata": {
    "id": "ee57c60f"
   },
   "source": [
    "**Reasoning**:\n",
    "Identify suitable optimization algorithms from SciPy for minimizing a function with a large number of variables (the elements of the u array) and outline how the chosen method will be applied.\n",
    "\n"
   ]
  },
  {
   "cell_type": "code",
   "execution_count": 5,
   "metadata": {
    "executionInfo": {
     "elapsed": 53,
     "status": "ok",
     "timestamp": 1758732595124,
     "user": {
      "displayName": "Petros Koumoutsakos",
      "userId": "14488459808227083341"
     },
     "user_tz": -60
    },
    "id": "a12a09db"
   },
   "outputs": [],
   "source": [
    "# 1. Identify suitable optimization methods:\n",
    "# The optimization problem involves minimizing a sum of squares function (total_cost_2d) with a large number of variables (nt*nx elements in the u array).\n",
    "# Suitable methods from SciPy for large-scale optimization include:\n",
    "# - 'L-BFGS-B': A limited-memory BFGS method with bound constraints. Generally good for large-scale problems.\n",
    "# - 'TNC': Truncated Newton algorithm. Also suitable for large-scale problems with bounds.\n",
    "# - 'SLSQP': Sequential Least SQuares Programming. Can handle equality and inequality constraints, as well as bounds. Might be slower than the other two for large unconstrained problems.\n",
    "# - 'Newton-CG': Newton- conjugate gradient method. Requires Hessian or Hessian-vector product. Can be efficient if these are available or can be approximated.\n",
    "\n",
    "# 2. Select one or more promising algorithms and provide a brief justification:\n",
    "# 'L-BFGS-B' and 'TNC' are good candidates for this problem due to their ability to handle large numbers of variables and their general efficiency on unconstrained or bound-constrained problems. 'L-BFGS-B' is often a robust first choice. 'TNC' can also perform well. We will focus on 'L-BFGS-B' as a primary choice.\n",
    "\n",
    "# Justification for 'L-BFGS-B':\n",
    "# - Handles a large number of variables efficiently due to its limited-memory nature.\n",
    "# - Suitable for minimizing smooth functions, and our cost function is a sum of squares of polynomials in terms of u, so it is smooth.\n",
    "# - Can incorporate bound constraints, which could be useful for potentially constraining the solution values or enforcing boundary conditions implicitly.\n",
    "\n",
    "# 3. Outline how the chosen method will be applied to the total_cost_2d function and the 2D u array:\n",
    "# - The `scipy.optimize.minimize` function will be used.\n",
    "# - The function to be minimized will be `total_cost_2d`.\n",
    "# - The optimization variable will be the flattened 1D representation of the 2D `u` array. The `total_cost_2d` function will need to handle this, likely by reshaping the 1D array back into the 2D `u` array internally.\n",
    "# - An initial guess for the flattened `u` array will be provided. A reasonable initial guess could be the initial condition extended over all time steps (u[0, :]) or the solution from a standard explicit Euler simulation.\n",
    "# - Boundary and initial conditions will need to be enforced. This can be done by:\n",
    "#   - Fixing the corresponding elements in the flattened initial guess and using bounds in `minimize` to keep them fixed.\n",
    "#   - Modifying the `total_cost_2d` function to only calculate the cost over the interior points in space and time, and ensuring the initial/boundary values of the passed `u_2d` are set correctly before calculation (if not handled by bounds).\n",
    "#   - Using bounds in `minimize` to enforce the fixed values (e.g., lower_bound = upper_bound = fixed_value for initial/boundary points).\n",
    "\n",
    "# This step is purely outlining the approach and doesn't require executable code for the optimization itself yet."
   ]
  },
  {
   "cell_type": "markdown",
   "metadata": {
    "id": "7763d957"
   },
   "source": [
    "## Implement the optimization\n",
    "\n",
    "### Subtask:\n",
    "Implement the optimization to find the optimal `u` array by minimizing the `total_cost_2d` function using the chosen optimization method ('L-BFGS-B' from `scipy.optimize.minimize`).\n"
   ]
  },
  {
   "cell_type": "markdown",
   "metadata": {
    "id": "55eef556"
   },
   "source": [
    "**Reasoning**:\n",
    "Implement the optimization loop to minimize the cost function at each time step using the chosen optimization method ('L-BFGS-B').\n",
    "\n"
   ]
  },
  {
   "cell_type": "code",
   "execution_count": null,
   "metadata": {
    "id": "8f492074"
   },
   "outputs": [],
   "source": [
    "from scipy.optimize import minimize\n",
    "\n",
    "# Flatten the initial guess for the u array.\n",
    "# A simple initial guess: extend the initial condition across all time steps.\n",
    "initial_guess_flat = np.tile(u[0, :], nt + 1)\n",
    "\n",
    "# Define bounds for the flattened u array to enforce initial and boundary conditions.\n",
    "# The flattened array has size (nt + 1) * nx.\n",
    "# The first nx elements correspond to the initial condition (time step 0).\n",
    "# Elements corresponding to index 0 and nx-1 for all time steps are boundary points.\n",
    "bounds = []\n",
    "for n in range(nt + 1):\n",
    "    for i in range(nx):\n",
    "        if n == 0:\n",
    "            # Initial condition is fixed\n",
    "            bounds.append((u[0, i], u[0, i]))\n",
    "        elif i == 0 or i == nx - 1:\n",
    "            # Boundary conditions are fixed (assuming 0.0 from problem context)\n",
    "            bounds.append((0.0, 0.0))\n",
    "        else:\n",
    "            # Internal points are free\n",
    "            bounds.append((None, None))\n",
    "\n",
    "# Define a wrapper function that takes the flattened 1D u array as input,\n",
    "# reshapes it back to the 2D (nt+1, nx) shape, and calls total_cost_2d.\n",
    "def objective_function(u_flat):\n",
    "    u_2d = u_flat.reshape((nt + 1, nx))\n",
    "    return total_cost_2d(u_2d)\n",
    "\n",
    "# Call scipy.optimize.minimize\n",
    "result = minimize(objective_function, initial_guess_flat, method='L-BFGS-B',\n",
    "                  bounds=bounds, options={'disp': True, 'maxiter': 300})\n",
    "\n",
    "# Reshape the optimized 1D result back into the 2D u array\n",
    "u_optimized = result.x.reshape((nt + 1, nx))\n",
    "\n",
    "# Assign the optimized solution back to the original u variable or a new one\n",
    "u = u_optimized\n",
    "\n",
    "# Print the final cost after optimization\n",
    "print(f\"Final cost after optimization: {result.fun}\")"
   ]
  },
  {
   "cell_type": "markdown",
   "metadata": {
    "id": "033cef41"
   },
   "source": [
    "## Evaluate and visualize results\n",
    "\n",
    "### Subtask:\n",
    "Analyze the resulting optimized `u` array. Visualize the solution using plots like the 2D contour plot.\n"
   ]
  },
  {
   "cell_type": "markdown",
   "metadata": {
    "id": "95d4ab7c"
   },
   "source": [
    "**Reasoning**:\n",
    "Plot the solution u at different time steps, create a 2D contour plot of the optimized solution u, add a colorbar, titles, grid lines, and display the plots to visualize the results of the optimization.\n",
    "\n"
   ]
  },
  {
   "cell_type": "code",
   "execution_count": null,
   "metadata": {
    "colab": {
     "height": 789
    },
    "executionInfo": {
     "elapsed": 1608,
     "status": "ok",
     "timestamp": 1758731942436,
     "user": {
      "displayName": "Petros Koumoutsakos",
      "userId": "14488459808227083341"
     },
     "user_tz": -60
    },
    "id": "51efba69",
    "outputId": "8d5857a0-d7f0-4e0d-a9ca-2b73a3e5ecc7"
   },
   "outputs": [],
   "source": [
    "# Plot the solution at different time steps\n",
    "plt.figure(figsize=(10, 6))\n",
    "time_steps_to_plot = [0, nt // 4, nt // 2, 3 * nt // 4, nt]\n",
    "for i in time_steps_to_plot:\n",
    "    plt.plot(x, u[i, :], label=f'Time step {i}')\n",
    "plt.xlabel('x')\n",
    "plt.ylabel('u')\n",
    "plt.title('Solution of the Diffusion Equation at Different Time Steps (Optimized)')\n",
    "plt.legend()\n",
    "plt.grid(True)\n",
    "plt.show()\n",
    "\n",
    "# Create a 2D contour plot of the optimized solution u over x and time steps\n",
    "plt.figure(figsize=(10, 6))\n",
    "T_grid, X_grid = np.meshgrid(np.linspace(0, T, nt + 1), x) # Create a meshgrid for contour plot\n",
    "plt.contourf(X_grid, T_grid, u.T, 100, cmap='viridis') # Transpose u for plotting\n",
    "plt.colorbar(label='u')\n",
    "plt.xlabel('x')\n",
    "plt.ylabel('Time step')\n",
    "plt.title('2D Contour Plot of Optimized u(x, t)')\n",
    "plt.grid(True)\n",
    "plt.show()"
   ]
  },
  {
   "cell_type": "markdown",
   "metadata": {
    "id": "dc789b60"
   },
   "source": [
    "## Summary:\n",
    "\n",
    "### Data Analysis Key Findings\n",
    "\n",
    "*   The cost function for the ODIL method was successfully redefined to operate on the entire 2D `u` array, representing the solution over space and time.\n",
    "*   The optimization problem was formulated to minimize this 2D cost function, treating the entire `u` array as the set of optimization variables.\n",
    "*   The 'L-BFGS-B' algorithm from `scipy.optimize.minimize` was chosen and successfully implemented to perform the optimization.\n",
    "*   Initial and boundary conditions were effectively enforced during the optimization by using bounds on the corresponding elements of the flattened `u` array.\n",
    "*   The optimization process resulted in a final cost function value indicating the level of satisfaction of the discretized diffusion equation by the optimized solution.\n",
    "*   The optimized solution `u` was successfully visualized using line plots at different time steps and a 2D contour plot over space and time, demonstrating the expected behavior of a diffusion process.\n",
    "\n",
    "### Insights or Next Steps\n",
    "\n",
    "*   Compare the optimized solution with an analytical solution or a solution obtained from a standard numerical method (like explicit Euler time-stepping) to evaluate the accuracy of the ODIL approach for this problem.\n",
    "*   Investigate the effect of different initial guesses, optimization algorithms, and grid resolutions (dt, dx) on the convergence and accuracy of the ODIL method for solving the diffusion equation.\n"
   ]
  }
 ],
 "metadata": {
  "colab": {
   "last_runtime": {
    "build_target": "//learning/deepmind/research/funsearch/colabs:colab",
    "kind": "private"
   },
   "provenance": []
  },
  "kernelspec": {
   "display_name": "Python 3 (ipykernel)",
   "language": "python",
   "name": "python3"
  },
  "language_info": {
   "codemirror_mode": {
    "name": "ipython",
    "version": 3
   },
   "file_extension": ".py",
   "mimetype": "text/x-python",
   "name": "python",
   "nbconvert_exporter": "python",
   "pygments_lexer": "ipython3",
   "version": "3.13.3"
  }
 },
 "nbformat": 4,
 "nbformat_minor": 4
}
